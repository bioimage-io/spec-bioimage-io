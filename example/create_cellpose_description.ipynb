{
 "cells": [
  {
   "cell_type": "markdown",
   "metadata": {},
   "source": [
    "# Create Model Description of A Cellpose Model"
   ]
  },
  {
   "cell_type": "code",
   "execution_count": 1,
   "metadata": {},
   "outputs": [],
   "source": [
    "from pathlib import Path\n",
    "from bioimageio.spec.common import ValidationError\n",
    "from bioimageio.spec.model.v0_5 import ModelDescr"
   ]
  },
  {
   "cell_type": "markdown",
   "metadata": {},
   "source": [
    "To see what does a `ModelDescr` need:"
   ]
  },
  {
   "cell_type": "code",
   "execution_count": 2,
   "metadata": {},
   "outputs": [
    {
     "name": "stdout",
     "output_type": "stream",
     "text": [
      "9 validation errors for bioimage.io model specification\n",
      "name\n",
      "  Field required [type=missing, input_value={'format_version': '0.5.0', 'type': 'model'}, input_type=dict]\n",
      "    For further information visit https://errors.pydantic.dev/2.7/v/missing\n",
      "description\n",
      "  Field required [type=missing, input_value={'format_version': '0.5.0', 'type': 'model'}, input_type=dict]\n",
      "    For further information visit https://errors.pydantic.dev/2.7/v/missing\n",
      "authors\n",
      "  Field required [type=missing, input_value={'format_version': '0.5.0', 'type': 'model'}, input_type=dict]\n",
      "    For further information visit https://errors.pydantic.dev/2.7/v/missing\n",
      "cite\n",
      "  Field required [type=missing, input_value={'format_version': '0.5.0', 'type': 'model'}, input_type=dict]\n",
      "    For further information visit https://errors.pydantic.dev/2.7/v/missing\n",
      "license\n",
      "  Field required [type=missing, input_value={'format_version': '0.5.0', 'type': 'model'}, input_type=dict]\n",
      "    For further information visit https://errors.pydantic.dev/2.7/v/missing\n",
      "documentation\n",
      "  Field required [type=missing, input_value={'format_version': '0.5.0', 'type': 'model'}, input_type=dict]\n",
      "    For further information visit https://errors.pydantic.dev/2.7/v/missing\n",
      "inputs\n",
      "  Field required [type=missing, input_value={'format_version': '0.5.0', 'type': 'model'}, input_type=dict]\n",
      "    For further information visit https://errors.pydantic.dev/2.7/v/missing\n",
      "outputs\n",
      "  Field required [type=missing, input_value={'format_version': '0.5.0', 'type': 'model'}, input_type=dict]\n",
      "    For further information visit https://errors.pydantic.dev/2.7/v/missing\n",
      "weights\n",
      "  Field required [type=missing, input_value={'format_version': '0.5.0', 'type': 'model'}, input_type=dict]\n",
      "    For further information visit https://errors.pydantic.dev/2.7/v/missing\n"
     ]
    }
   ],
   "source": [
    "try:\n",
    "    my_model_descr = ModelDescr()  # type: ignore\n",
    "except ValidationError as e:\n",
    "    print(e)"
   ]
  },
  {
   "cell_type": "code",
   "execution_count": 3,
   "metadata": {},
   "outputs": [],
   "source": [
    "from bioimageio.spec.model.v0_5 import (\n",
    "    Author,\n",
    "    AxisId,\n",
    "    ChannelAxis,\n",
    "    CiteEntry,\n",
    "    Doi,\n",
    "    FileDescr,\n",
    "    Identifier,\n",
    "    InputTensorDescr,\n",
    "    IntervalOrRatioDataDescr,\n",
    "    ModelDescr,\n",
    "    OutputTensorDescr,\n",
    "    PytorchStateDictWeightsDescr,\n",
    "    SizeReference,\n",
    "    SpaceInputAxis,\n",
    "    SpaceOutputAxis,\n",
    "    TensorId,\n",
    "    TorchscriptWeightsDescr,\n",
    "    WeightsDescr,\n",
    ")"
   ]
  },
  {
   "cell_type": "markdown",
   "metadata": {},
   "source": [
    "### Input description"
   ]
  },
  {
   "cell_type": "code",
   "execution_count": 4,
   "metadata": {},
   "outputs": [],
   "source": [
    "input_axes = [\n",
    "    SpaceInputAxis(id=AxisId(\"z\"), size=32),\n",
    "    ChannelAxis(channel_names=[Identifier(\"c1\"), Identifier(\"c2\")]),\n",
    "    SpaceInputAxis(id=AxisId('y'), size=224),\n",
    "    SpaceInputAxis(id=AxisId('x'), size=224),\n",
    "]"
   ]
  },
  {
   "cell_type": "code",
   "execution_count": 5,
   "metadata": {},
   "outputs": [],
   "source": [
    "data_descr = IntervalOrRatioDataDescr(type='float32')"
   ]
  },
  {
   "cell_type": "code",
   "execution_count": 6,
   "metadata": {},
   "outputs": [],
   "source": [
    "test_input_path = Path('test_input.npy')"
   ]
  },
  {
   "cell_type": "code",
   "execution_count": 7,
   "metadata": {},
   "outputs": [],
   "source": [
    "input_descr = InputTensorDescr(\n",
    "    id=TensorId(\"raw\"),\n",
    "    axes=input_axes,\n",
    "    test_tensor=FileDescr(source=test_input_path),\n",
    "    data=data_descr,\n",
    ")"
   ]
  },
  {
   "cell_type": "markdown",
   "metadata": {},
   "source": [
    "### Output description"
   ]
  },
  {
   "cell_type": "code",
   "execution_count": 8,
   "metadata": {},
   "outputs": [],
   "source": [
    "output_axes = [\n",
    "    SpaceOutputAxis(id=AxisId(\"z\"), size=SizeReference(tensor_id=TensorId('raw'), axis_id=AxisId('z'))),\n",
    "    ChannelAxis(channel_names=[Identifier(\"flow1\"), Identifier(\"flow2\"), Identifier(\"flow3\")]),\n",
    "    SpaceOutputAxis(id=AxisId(\"y\"), size=SizeReference(tensor_id=TensorId('raw'), axis_id=AxisId('y'))),\n",
    "    SpaceOutputAxis(id=AxisId(\"x\"), size=SizeReference(tensor_id=TensorId('raw'), axis_id=AxisId('x'))),\n",
    "]"
   ]
  },
  {
   "cell_type": "code",
   "execution_count": 9,
   "metadata": {},
   "outputs": [],
   "source": [
    "test_output_path = Path('test_output.npy')"
   ]
  },
  {
   "cell_type": "code",
   "execution_count": 10,
   "metadata": {},
   "outputs": [],
   "source": [
    "output_descr = OutputTensorDescr(\n",
    "    id=TensorId(\"flow\"),\n",
    "    axes=output_axes,\n",
    "    test_tensor=FileDescr(source=test_output_path),\n",
    ")"
   ]
  },
  {
   "cell_type": "markdown",
   "metadata": {},
   "source": [
    "### Model architecture"
   ]
  },
  {
   "cell_type": "code",
   "execution_count": 11,
   "metadata": {},
   "outputs": [],
   "source": [
    "from bioimageio.spec.model.v0_5 import (\n",
    "    ArchitectureFromLibraryDescr,\n",
    "    Version,\n",
    ")"
   ]
  },
  {
   "cell_type": "code",
   "execution_count": 12,
   "metadata": {},
   "outputs": [
    {
     "data": {
      "text/plain": [
       "Version(root='2.3.0')"
      ]
     },
     "execution_count": 12,
     "metadata": {},
     "output_type": "execute_result"
    }
   ],
   "source": [
    "try:\n",
    "    import torch\n",
    "except ImportError:\n",
    "    pytorch_version = Version(\"1.15\")\n",
    "else:\n",
    "    pytorch_version = Version(torch.__version__)\n",
    "\n",
    "pytorch_version"
   ]
  },
  {
   "cell_type": "code",
   "execution_count": 13,
   "metadata": {},
   "outputs": [],
   "source": [
    "pytorch_architecture = ArchitectureFromLibraryDescr(callable=Identifier(\"CPnetWrapper\"), import_from=\"cpnet_wrapper\")"
   ]
  },
  {
   "cell_type": "markdown",
   "metadata": {},
   "source": [
    "### Create the model"
   ]
  },
  {
   "cell_type": "code",
   "execution_count": 14,
   "metadata": {},
   "outputs": [],
   "source": [
    "from bioimageio.spec.model.v0_5 import LicenseId\n",
    "from bioimageio.spec.common import HttpUrl"
   ]
  },
  {
   "cell_type": "code",
   "execution_count": 15,
   "metadata": {},
   "outputs": [
    {
     "name": "stderr",
     "output_type": "stream",
     "text": [
      "\u001b[32m2024-05-29 13:28:07.160\u001b[0m | Level 30\u001b[0m | \u001b[36mbioimageio.spec._internal.field_warning\u001b[0m:\u001b[36missue_warning\u001b[0m:\u001b[36m149\u001b[0m - documentation: No '# Validation' (sub)section found in https://github.com/kreshuklab/go-nuclear/blob/main/README.md.\u001b[0m\n",
      "\u001b[32m2024-05-29 13:28:07.217\u001b[0m | Level 30\u001b[0m | \u001b[36mbioimageio.spec._internal.field_warning\u001b[0m:\u001b[36missue_warning\u001b[0m:\u001b[36m149\u001b[0m - covers: Failed to generate cover image(s): Failed to construct cover image from shape (32, 2, 224, 224)\u001b[0m\n"
     ]
    },
    {
     "name": "stdout",
     "output_type": "stream",
     "text": [
      "created descr!\n"
     ]
    }
   ],
   "source": [
    "my_model_descr = ModelDescr(\n",
    "    name=\"Cellpose Gold Nuclear 1135\",\n",
    "    description=\"An experimental Cellpose nuclear model fine-tuned on ovules 1136, 1137, 1139, 1170 and tested on ovules 1135. A model for BioImage.IO team to test and develop post-processing tools.\",\n",
    "    authors=[Author(name=\"Qin Yu\", affiliation=\"EMBL\", github_user=\"qin-yu\")],\n",
    "    cite=[CiteEntry(text=\"For more details see the manuscript\", doi=Doi(\"10.1101/2024.02.19.580954\"))],\n",
    "    license=LicenseId(\"MIT\"),\n",
    "    documentation=HttpUrl(\"https://github.com/kreshuklab/go-nuclear/blob/main/README.md\"),\n",
    "    git_repo=HttpUrl(\"https://github.com/kreshuklab/go-nuclear\"),\n",
    "    inputs=[input_descr],\n",
    "    outputs=[output_descr],\n",
    "    weights=WeightsDescr(\n",
    "        pytorch_state_dict=PytorchStateDictWeightsDescr(\n",
    "            source=Path('/g/kreshuk/yu/temp/cp_wrapper_state_dict_1135_gold.pth'),\n",
    "            architecture=pytorch_architecture,\n",
    "            pytorch_version=pytorch_version\n",
    "        ),\n",
    "        torchscript=TorchscriptWeightsDescr(\n",
    "            source=Path('/g/kreshuk/yu/temp/cp_wrapper_traced_1135_gold.pt'),\n",
    "            pytorch_version=pytorch_version,\n",
    "            parent=\"pytorch_state_dict\", # these weights were converted from the pytorch_state_dict weights ones.\n",
    "        ),\n",
    "    ),\n",
    "    )\n",
    "print(\"created descr!\")"
   ]
  },
  {
   "cell_type": "markdown",
   "metadata": {},
   "source": [
    "### Dynamic validation"
   ]
  },
  {
   "cell_type": "code",
   "execution_count": 16,
   "metadata": {},
   "outputs": [
    {
     "name": "stderr",
     "output_type": "stream",
     "text": [
      "\u001b[32m2024-05-29 13:28:08.338\u001b[0m | \u001b[1mINFO    \u001b[0m | \u001b[36mbioimageio.core._resource_tests\u001b[0m:\u001b[36m_test_model_inference\u001b[0m:\u001b[36m122\u001b[0m - \u001b[1mstarting 'Reproduce test outputs from test inputs'\u001b[0m\n",
      "\u001b[32m2024-05-29 13:28:15.527\u001b[0m | \u001b[1mINFO    \u001b[0m | \u001b[36mbioimageio.core._resource_tests\u001b[0m:\u001b[36m_test_model_inference_parametrized\u001b[0m:\u001b[36m192\u001b[0m - \u001b[1mTesting inference with 4 different input tensor sizes\u001b[0m\n"
     ]
    },
    {
     "data": {
      "text/markdown": [
       "\n",
       "|        ✔️       | bioimageio validation passed |\n",
       "|       ---       |             ---              |\n",
       "| source          | in-memory                    |\n",
       "| format version  | model 0.5.0                  |\n",
       "| bioimageio.spec | 0.5.2post5                   |\n",
       "| bioimageio.core | 0.6.5                        |\n",
       "\n",
       "|  ❓  | location |                                detail                               |\n",
       "| --- |   ---    |                                 ---                                 |\n",
       "| ✔️  |          | initialized ModelDescr to describe model 0.5.0                      |\n",
       "|     |          |                                                                     |\n",
       "| ✔️  |          | Has expected resource type                                          |\n",
       "|     |          |                                                                     |\n",
       "| ✔️  |          | Reproduce test outputs from test inputs                             |\n",
       "|     |          |                                                                     |\n",
       "| ✔️  |          | Run inference for inputs with batch_size: 1 and size parameter n: 0 |\n",
       "|     |          |                                                                     |\n"
      ],
      "text/plain": [
       "<IPython.core.display.Markdown object>"
      ]
     },
     "metadata": {},
     "output_type": "display_data"
    }
   ],
   "source": [
    "from bioimageio.core import test_model\n",
    "summary = test_model(my_model_descr)\n",
    "summary.display()"
   ]
  },
  {
   "cell_type": "markdown",
   "metadata": {},
   "source": [
    "### Package the model"
   ]
  },
  {
   "cell_type": "code",
   "execution_count": 17,
   "metadata": {},
   "outputs": [
    {
     "name": "stdout",
     "output_type": "stream",
     "text": [
      "package path: cellpose_gold_1135.zip\n"
     ]
    }
   ],
   "source": [
    "from bioimageio.spec import save_bioimageio_package\n",
    "\n",
    "print(\"package path:\", save_bioimageio_package(my_model_descr, output_path=Path('cellpose_gold_1135.zip')))"
   ]
  },
  {
   "cell_type": "code",
   "execution_count": null,
   "metadata": {},
   "outputs": [],
   "source": []
  }
 ],
 "metadata": {
  "kernelspec": {
   "display_name": "plant-seg-bioimage-io",
   "language": "python",
   "name": "python3"
  },
  "language_info": {
   "codemirror_mode": {
    "name": "ipython",
    "version": 3
   },
   "file_extension": ".py",
   "mimetype": "text/x-python",
   "name": "python",
   "nbconvert_exporter": "python",
   "pygments_lexer": "ipython3",
   "version": "3.11.9"
  }
 },
 "nbformat": 4,
 "nbformat_minor": 2
}
