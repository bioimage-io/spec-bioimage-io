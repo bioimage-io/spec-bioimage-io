{
 "cells": [
  {
   "cell_type": "markdown",
   "metadata": {},
   "source": [
    "# **Loading a bioimage.io model**\n",
    "\n",
    "This notebook shows how to interact with the `bioimageio.spec` programmatically to explore, load and export content from the [BioImage Model Zoo](https://bioimage.io).\n",
    "To conveniently inspect and edit models, check out the [model builder GUI](https://github.com/kreshuklab/bioimageio_rs/releases). The bioimageio.spec library is documented [here](https://bioimage-io.github.io/spec-bioimage-io/bioimageio/spec.html). Its "
   ]
  },
  {
   "cell_type": "markdown",
   "metadata": {},
   "source": [
    "## Setup\n",
    "\n",
    "### Running local\n",
    "\n",
    "If you are running the notebook locally you need to pip install the following dependencies into your local environment.\n",
    "Make sure to restart your notebook kernel after installing dependencies.\n",
    "\n",
    "```console\n",
    "pip install bioimageio.spec \"bioimageio.core[pytorch]\" devtools\n",
    "```\n",
    "\n",
    "### Running in colab\n",
    "\n",
    "If you are running this notebook through colab, there is no need to install dependencies manually."
   ]
  },
  {
   "cell_type": "code",
   "execution_count": 1,
   "metadata": {},
   "outputs": [],
   "source": [
    "import os\n",
    "\n",
    "# install dependencies if running in colab\n",
    "if os.getenv(\"COLAB_RELEASE_TAG\"):\n",
    "    %pip install bioimageio.spec bioimageio.core[pytorch] devtools"
   ]
  },
  {
   "cell_type": "markdown",
   "metadata": {},
   "source": [
    "## Imports and helpers"
   ]
  },
  {
   "cell_type": "code",
   "execution_count": 2,
   "metadata": {},
   "outputs": [],
   "source": [
    "from typing import Any\n",
    "\n",
    "import imageio.v3\n",
    "import matplotlib.pyplot as plt\n",
    "from numpy.typing import NDArray\n",
    "\n",
    "from bioimageio.spec._internal.io import FileSource\n",
    "from bioimageio.spec.utils import download\n",
    "from bioimageio.spec.pretty_validation_errors import (\n",
    "    enable_pretty_validation_errors_in_ipynb,\n",
    ")\n",
    "\n",
    "try:\n",
    "    from devtools import pprint\n",
    "except ImportError:\n",
    "    from pprint import pprint\n",
    "\n",
    "\n",
    "def imread(src: FileSource) -> NDArray[Any]:\n",
    "    \"\"\"typed `imageio.v3.imread`\"\"\"\n",
    "    img: NDArray[Any] = imageio.v3.imread(download(src).path)\n",
    "    return img\n",
    "\n",
    "\n",
    "# Improve readiblity of validation errors\n",
    "enable_pretty_validation_errors_in_ipynb()"
   ]
  },
  {
   "cell_type": "markdown",
   "metadata": {},
   "source": [
    "## Inspect the available models in the BioImage Model Zoo\n",
    "\n",
    "Go to https://bioimage.io to browse available models.\n",
    "\n",
    "To conveniently inspect and edit models, check out the [model builder GUI](https://github.com/kreshuklab/bioimageio_rs/releases)."
   ]
  },
  {
   "cell_type": "markdown",
   "metadata": {},
   "source": [
    "## Load a model description\n",
    "\n",
    "bioimage.io resources may be identified via their bioimage.io ID, e.g. \"affable-shark\" or the [DOI](https://doi.org/) of their [Zenodo](https://zenodo.org/) backup.\n",
    "\n",
    "Both of these options may be version specific (\"affable-shark/1.2\" or a version specific [Zenodo](https://zenodo.org/) backup [DOI](https://doi.org/)).\n",
    "\n",
    "Alternativly any Resource Description File (RDF) source may be loaded by providing a local path or URL. This is a YAML file that we use in the context of bioimage.io to describe a model's meta data.\n",
    "\n",
    "Select one of the possible model source options below."
   ]
  },
  {
   "cell_type": "code",
   "execution_count": 3,
   "metadata": {},
   "outputs": [
    {
     "name": "stderr",
     "output_type": "stream",
     "text": [
      "Downloading data from 'https://hypha.aicell.io/bioimage-io/artifacts/affable-shark/files/zero_mean_unit_variance.ijm' to file 'C:\\repos\\bioimage-io\\spec-bioimage-io\\example\\bioimageio_cache\\88e2a8cc77483cc0ea27edd0d1a89d22-zero_mean_unit_variance.ijm'.\n",
      "100%|#################################################| 845/845 [00:00<?, ?B/s]\n",
      "Downloading data from 'https://hypha.aicell.io/bioimage-io/artifacts/affable-shark/files/documentation.md' to file 'C:\\repos\\bioimage-io\\spec-bioimage-io\\example\\bioimageio_cache\\489ec8016ae9477357cd936de9a11d07-documentation.md'.\n",
      "100%|#####################################| 1.57k/1.57k [00:00<00:00, 1.57MB/s]\n",
      "SHA256 hash of downloaded file: 9b8330e6fae8403efc7a44bb7365186c14fb6222b608791baab7a4e0352dbdcd\n",
      "Use this value as the 'known_hash' argument of 'pooch.retrieve' to ensure that the file hasn't changed if it is downloaded again in the future.\n",
      "Downloading data from 'https://hypha.aicell.io/bioimage-io/artifacts/affable-shark/files/test_input_0.npy' to file 'C:\\repos\\bioimage-io\\spec-bioimage-io\\example\\bioimageio_cache\\277e1abf8d7287b159459f2288fbcfa1-test_input_0.npy'.\n",
      "100%|#######################################| 262k/262k [00:00<00:00, 70.6MB/s]\n",
      "Downloading data from 'https://hypha.aicell.io/bioimage-io/artifacts/affable-shark/files/sample_input_0.tif' to file 'C:\\repos\\bioimage-io\\spec-bioimage-io\\example\\bioimageio_cache\\edac764cb9961ddf028c851b97218376-sample_input_0.tif'.\n",
      "100%|#####################################| 65.8k/65.8k [00:00<00:00, 36.2MB/s]\n",
      "Downloading data from 'https://hypha.aicell.io/bioimage-io/artifacts/affable-shark/files/test_output_0.npy' to file 'C:\\repos\\bioimage-io\\spec-bioimage-io\\example\\bioimageio_cache\\860fe08d64499652ec068c8888b41b96-test_output_0.npy'.\n",
      "100%|########################################| 524k/524k [00:00<00:00, 263MB/s]\n",
      "Downloading data from 'https://hypha.aicell.io/bioimage-io/artifacts/affable-shark/files/sample_output_0.tif' to file 'C:\\repos\\bioimage-io\\spec-bioimage-io\\example\\bioimageio_cache\\818228afed536ccee69c6dbd916304f5-sample_output_0.tif'.\n",
      "100%|########################################| 525k/525k [00:00<00:00, 241MB/s]\n",
      "Downloading data from 'https://hypha.aicell.io/bioimage-io/artifacts/affable-shark/files/weights.onnx' to file 'C:\\repos\\bioimage-io\\spec-bioimage-io\\example\\bioimageio_cache\\a29931882f103574ce5f7a571a785d50-weights.onnx'.\n",
      "100%|#######################################| 116M/116M [00:00<00:00, 57.9GB/s]\n",
      "Downloading data from 'https://hypha.aicell.io/bioimage-io/artifacts/affable-shark/files/unet.py' to file 'C:\\repos\\bioimage-io\\spec-bioimage-io\\example\\bioimageio_cache\\52371f6d4d4b630d5368ff210da6de87-unet.py'.\n",
      "100%|#####################################| 20.9k/20.9k [00:00<00:00, 21.0MB/s]\n",
      "Downloading data from 'https://hypha.aicell.io/bioimage-io/artifacts/affable-shark/files/weights.pt' to file 'C:\\repos\\bioimage-io\\spec-bioimage-io\\example\\bioimageio_cache\\cc63a0f786730a5bddf89ad814112563-weights.pt'.\n",
      "100%|###############################################| 116M/116M [00:00<?, ?B/s]\n",
      "Downloading data from 'https://hypha.aicell.io/bioimage-io/artifacts/affable-shark/files/weights-torchscript.pt' to file 'C:\\repos\\bioimage-io\\spec-bioimage-io\\example\\bioimageio_cache\\1e4df692a0bafd1aa7c4eea2dd293a9b-weights-torchscript.pt'.\n",
      "100%|###############################################| 116M/116M [00:00<?, ?B/s]\n"
     ]
    }
   ],
   "source": [
    "from bioimageio.spec import load_model_description\n",
    "from bioimageio.spec.model import ModelDescr\n",
    "\n",
    "# Load the model description with one of the following options\n",
    "model_source = \"affable-shark\"\n",
    "# model_source = \"emotional-cricket\"\n",
    "\n",
    "# alternative model sources\n",
    "# # from a local RDF source\n",
    "# model_source = \"some/local/bioimageio.yaml\"\n",
    "\n",
    "# # from a local package with a bioimageio.yaml (or rdf.yaml) inside.\n",
    "# model_source = \"some/local/package.zip\"\n",
    "\n",
    "# # concept DOI of backup on zenodo.org\n",
    "# model_source = \"10.5281/zenodo.11092561\"\n",
    "\n",
    "model = load_model_description(model_source, format_version=\"latest\")"
   ]
  },
  {
   "cell_type": "markdown",
   "metadata": {},
   "source": [
    "You now successfully loaded a model! 🎉\n",
    "\n",
    "The subsequent cells demo addtional capabilities of the bioimageio.spec library that allow you to interact with specific parts of your model's metadata.\n",
    "\n",
    "If you want to jump directly to model usage check out\n",
    "[model_usage.ipynb](https://github.com/bioimage-io/core-bioimage-io-python/blob/main/example/model_usage.ipynb) where bioimageio.core -- a library building on top of bioimageio.spec -- is demoed.\n",
    "\n",
    "Note: bioimage.io models can be specified following different format versions. This notebook expects the latest format version (which is ensured by the `format_version=\"latest\"` argument above)."
   ]
  },
  {
   "cell_type": "markdown",
   "metadata": {},
   "source": [
    "## Inspect the model description\n",
    "\n",
    "The model description contains everything bioimageio needs to run and interact with the model plus additional metadata to make all our models [FAIR](https://www.go-fair.org/fair-principles).\n",
    "\n",
    "Below we print a few fields from the model description, all fields are documented [here](https://bioimage-io.github.io/spec-bioimage-io/bioimageio/spec.html#ModelDescr)."
   ]
  },
  {
   "cell_type": "markdown",
   "metadata": {},
   "source": [
    "### High level description"
   ]
  },
  {
   "cell_type": "code",
   "execution_count": 4,
   "metadata": {},
   "outputs": [
    {
     "name": "stdout",
     "output_type": "stream",
     "text": [
      "The model is named 'NucleiSegmentationBoundaryModel'\n",
      "Description text:\n",
      "Nucleus segmentation for fluorescence microscopy\n",
      "License: CC-BY-4.0\n"
     ]
    }
   ],
   "source": [
    "print(f\"The model is named '{model.name}'\")\n",
    "print(f\"Description text:\\n{model.description}\")\n",
    "print(f\"License: {model.license}\")"
   ]
  },
  {
   "cell_type": "markdown",
   "metadata": {},
   "source": [
    "### Provenance\n",
    "\n",
    "The following fields ensure academic provenance and correct citation."
   ]
  },
  {
   "cell_type": "code",
   "execution_count": 5,
   "metadata": {},
   "outputs": [
    {
     "name": "stdout",
     "output_type": "stream",
     "text": [
      "\n",
      "The authors of the model are:\n",
      "[Author(affiliation='EMBL Heidelberg', email=None, orcid=None, name='Constantin Pape', github_user='constantinpape')]\n",
      "\n",
      "In addition to the authors it is maintained by:\n",
      "[Maintainer(affiliation=None, email=None, orcid=None, name='Constantin Pape', github_user='constantinpape')]\n",
      "\n",
      "If you use this model, you are expected to cite:\n",
      "[CiteEntry(text='training library', doi='10.5281/zenodo.5108853', url=None),\n",
      " CiteEntry(text='architecture', doi='10.1007/978-3-319-24574-4_28', url=None),\n",
      " CiteEntry(text='segmentation algorithm', doi='10.1038/nmeth.4151', url=None),\n",
      " CiteEntry(text='data', doi=None, url='https://www.nature.com/articles/s41592-019-0612-7')]\n"
     ]
    }
   ],
   "source": [
    "print(\"\\nThe authors of the model are:\")\n",
    "pprint(model.authors)\n",
    "print(\"\\nIn addition to the authors it is maintained by:\")\n",
    "pprint(model.maintainers)\n",
    "print(\"\\nIf you use this model, you are expected to cite:\")\n",
    "pprint(model.cite)"
   ]
  },
  {
   "cell_type": "markdown",
   "metadata": {},
   "source": [
    "### Model specific documentation"
   ]
  },
  {
   "cell_type": "code",
   "execution_count": 6,
   "metadata": {},
   "outputs": [
    {
     "name": "stdout",
     "output_type": "stream",
     "text": [
      "\n",
      "Further model specific documentation can be found here:\n",
      "https://hypha.aicell.io/bioimage-io/artifacts/affable-shark/files/documentation.md\n",
      "\n",
      "There is no associated GitHub repository.\n"
     ]
    }
   ],
   "source": [
    "print(\n",
    "    f\"\\nFurther model specific documentation can be found here:\\n{model.documentation.absolute()}\"\n",
    ")\n",
    "\n",
    "if model.git_repo is None:\n",
    "    print(\"\\nThere is no associated GitHub repository.\")\n",
    "else:\n",
    "    print(f\"\\nThere is an associated GitHub repository: {model.git_repo}.\")"
   ]
  },
  {
   "cell_type": "markdown",
   "metadata": {},
   "source": [
    "### Cover image\n",
    "\n",
    "Each model has an associated cover image, chosen by the model author. This can be an example of model input or output or just any model related image. 📸"
   ]
  },
  {
   "cell_type": "code",
   "execution_count": 9,
   "metadata": {},
   "outputs": [
    {
     "data": {
      "image/png": "[encoded data removed]",
      "text/plain": [
       "<Figure size 1000x1000 with 1 Axes>"
      ]
     },
     "metadata": {},
     "output_type": "display_data"
    }
   ],
   "source": [
    "from io import BinaryIO\n",
    "\n",
    "for i, cover in enumerate(model.covers):\n",
    "    downloaded_cover = download(cover)\n",
    "    cover_data: NDArray[Any] = imread(BinaryIO(downloaded_cover.read()))  # type: ignore\n",
    "    _ = plt.figure(figsize=(10, 10))\n",
    "    plt.imshow(cover_data)  # type: ignore\n",
    "    plt.xticks([])  # type: ignore\n",
    "    plt.yticks([])  # type: ignore\n",
    "    plt.title(f\"cover image {downloaded_cover.original_file_name}\")  # type: ignore\n",
    "    plt.show()"
   ]
  },
  {
   "cell_type": "markdown",
   "metadata": {},
   "source": [
    "### Inspect available weight formats of the model\n",
    "\n",
    "Multiple popular deep learning frameworks exist, for example keras, tensorflow, pytorch, onnx, ... The bioimage zoo will automatically select from the available model formats, so in general no further consideration is needed.\n",
    "\n",
    "However, developers can programatically access the model formats as shown below."
   ]
  },
  {
   "cell_type": "code",
   "execution_count": 10,
   "metadata": {},
   "outputs": [
    {
     "name": "stdout",
     "output_type": "stream",
     "text": [
      "ONNX\n",
      "weights are available at https://hypha.aicell.io/bioimage-io/artifacts/affable-shark/files/weights.onnx\n",
      "and have a SHA-256 value of df913b85947f5132bcdaf81d91af0963f60d44f4caf8a4fec672d96a2f327b44\n",
      "additonal metadata for ONNX:\n",
      "{'comment': '', 'opset_version': 12, 'parent': 'pytorch_state_dict'}\n",
      "\n",
      "TorchScript\n",
      "weights are available at https://hypha.aicell.io/bioimage-io/artifacts/affable-shark/files/weights-torchscript.pt\n",
      "and have a SHA-256 value of 8410950508655a300793b389c815dc30b1334062fc1dadb1e15e55a93cbb99a0\n",
      "additonal metadata for TorchScript:\n",
      "{'comment': '', 'parent': 'pytorch_state_dict', 'pytorch_version': '1.10'}\n",
      "\n",
      "Pytorch State Dict\n",
      "weights are available at https://hypha.aicell.io/bioimage-io/artifacts/affable-shark/files/weights.pt\n",
      "and have a SHA-256 value of 608f52cd7f5119f7a7b8272395b0c169714e8be34536eaf159820f72a1d6a5b7\n",
      "additonal metadata for Pytorch State Dict:\n",
      "{'architecture': {'callable': 'UNet2d',\n",
      "                  'kwargs': {'depth': 4,\n",
      "                             'final_activation': 'Sigmoid',\n",
      "                             'gain': 2,\n",
      "                             'in_channels': 1,\n",
      "                             'initial_features': 64,\n",
      "                             'out_channels': 2,\n",
      "                             'postprocessing': None,\n",
      "                             'return_side_outputs': False},\n",
      "                  'sha256': '7f5b15948e8e2c91f78dcff34fbf30af517073e91ba487f3edb982b948d099b3',\n",
      "                  'source': 'unet.py'},\n",
      " 'comment': '',\n",
      " 'pytorch_version': '1.10'}\n",
      "\n"
     ]
    }
   ],
   "source": [
    "for w in (\n",
    "    (weights := model.weights).onnx,\n",
    "    weights.keras_hdf5,\n",
    "    weights.tensorflow_js,\n",
    "    weights.tensorflow_saved_model_bundle,\n",
    "    weights.torchscript,\n",
    "    weights.pytorch_state_dict,\n",
    "):\n",
    "    if w is None:\n",
    "        continue\n",
    "\n",
    "    print(w.weights_format_name)\n",
    "    print(f\"weights are available at {w.source.absolute()}\")\n",
    "    print(f\"and have a SHA-256 value of {w.sha256}\")\n",
    "    details = {\n",
    "        k: v\n",
    "        for k, v in w.model_dump(mode=\"json\", exclude_none=True).items()\n",
    "        if k not in (\"source\", \"sha256\")\n",
    "    }\n",
    "    if details:\n",
    "        print(f\"additonal metadata for {w.weights_format_name}:\")\n",
    "        pprint(details)\n",
    "\n",
    "    print()"
   ]
  },
  {
   "cell_type": "markdown",
   "metadata": {},
   "source": [
    "### Inspect expected inputs and outputs of the model\n",
    "\n",
    "This defines the IO of the model. To use the model correctly the inputs must match the description, for example shape, axis order, ..."
   ]
  },
  {
   "cell_type": "code",
   "execution_count": 11,
   "metadata": {},
   "outputs": [
    {
     "name": "stdout",
     "output_type": "stream",
     "text": [
      "Model 'NucleiSegmentationBoundaryModel' requires 1 input(s) with the following features:\n",
      "\n",
      "input 'input0' with axes:\n",
      "[BatchAxis(id='batch', description='', type='batch', size=None),\n",
      " ChannelAxis(id='channel', description='', type='channel', channel_names=['channel0']),\n",
      " SpaceInputAxis(size=ParameterizedSize(min=64, step=16), id='y', description='', type='space', unit=None, scale=1.0, concatenable=False),\n",
      " SpaceInputAxis(size=ParameterizedSize(min=64, step=16), id='x', description='', type='space', unit=None, scale=1.0, concatenable=False)]\n",
      "Data description: type='float32' range=(None, None) unit='arbitrary unit' scale=1.0 offset=None\n",
      "Test tensor available at:  https://hypha.aicell.io/bioimage-io/artifacts/affable-shark/files/test_input_0.npy\n",
      "This input is preprocessed with: \n",
      "id='ensure_dtype' kwargs=EnsureDtypeKwargs(dtype='float32')\n",
      "id='zero_mean_unit_variance' kwargs=ZeroMeanUnitVarianceKwargs(axes=['channel', 'y', 'x'], eps=1e-06)\n",
      "id='ensure_dtype' kwargs=EnsureDtypeKwargs(dtype='float32')\n",
      "\n",
      "-------------------------------------------------------------------------------\n",
      "Model 'NucleiSegmentationBoundaryModel' requires 1 output(s) with the following features:\n",
      "\n",
      "output 'output0' with axes:\n",
      "[BatchAxis(id='batch', description='', type='batch', size=None),\n",
      " ChannelAxis(id='channel', description='', type='channel', channel_names=['channel0', 'channel1']),\n",
      " SpaceOutputAxisWithHalo(halo=16, size=SizeReference(tensor_id='input0', axis_id='y', offset=0), id='y', description='', type='space', unit=None, scale=1.0),\n",
      " SpaceOutputAxisWithHalo(halo=16, size=SizeReference(tensor_id='input0', axis_id='x', offset=0), id='x', description='', type='space', unit=None, scale=1.0)]\n",
      "Data description: type='float32' range=(None, None) unit='arbitrary unit' scale=1.0 offset=None\n",
      "Test tensor available at:  https://hypha.aicell.io/bioimage-io/artifacts/affable-shark/files/test_output_0.npy\n"
     ]
    }
   ],
   "source": [
    "print(\n",
    "    f\"Model '{model.name}' requires {len(model.inputs)} input(s) with the following features:\"\n",
    ")\n",
    "for ipt in model.inputs:\n",
    "    print(f\"\\ninput '{ipt.id}' with axes:\")\n",
    "    pprint(ipt.axes)\n",
    "    print(f\"Data description: {ipt.data}\")\n",
    "    print(f\"Test tensor available at:  {ipt.test_tensor.source.absolute()}\")\n",
    "    if len(ipt.preprocessing) > 1:\n",
    "        print(\"This input is preprocessed with: \")\n",
    "        for p in ipt.preprocessing:\n",
    "            print(p)\n",
    "\n",
    "print(\n",
    "    \"\\n-------------------------------------------------------------------------------\"\n",
    ")\n",
    "# # and what the model outputs are\n",
    "print(\n",
    "    f\"Model '{model.name}' requires {len(model.outputs)} output(s) with the following features:\"\n",
    ")\n",
    "for out in model.outputs:\n",
    "    print(f\"\\noutput '{out.id}' with axes:\")\n",
    "    pprint(out.axes)\n",
    "    print(f\"Data description: {out.data}\")\n",
    "    print(f\"Test tensor available at:  {out.test_tensor.source.absolute()}\")\n",
    "    if len(out.postprocessing) > 1:\n",
    "        print(\"This output is postprocessed with: \")\n",
    "        for p in out.postprocessing:\n",
    "            print(p)"
   ]
  },
  {
   "cell_type": "markdown",
   "metadata": {},
   "source": [
    "### Inspect model architecture (advanced)\n",
    "\n",
    "For deeper understanding/details of the model's architecture the following specifies the location of\n",
    "the network source code.\n",
    "Note: inspection is only implemented for pytorch state dict weights."
   ]
  },
  {
   "cell_type": "code",
   "execution_count": 12,
   "metadata": {},
   "outputs": [
    {
     "name": "stdout",
     "output_type": "stream",
     "text": [
      "callable: UNet2d\n",
      "import from file: https://hypha.aicell.io/bioimage-io/artifacts/affable-shark/files/unet.py\n",
      "SHA-256: 7f5b15948e8e2c91f78dcff34fbf30af517073e91ba487f3edb982b948d099b3\n"
     ]
    }
   ],
   "source": [
    "from typing_extensions import assert_never\n",
    "\n",
    "from bioimageio.spec.model.v0_5 import (\n",
    "    ArchitectureFromFileDescr,\n",
    "    ArchitectureFromLibraryDescr,\n",
    ")\n",
    "\n",
    "assert isinstance(model, ModelDescr)\n",
    "if (w := model.weights.pytorch_state_dict) is not None:\n",
    "    arch = w.architecture\n",
    "    print(f\"callable: {arch.callable}\")\n",
    "    if isinstance(arch, ArchitectureFromFileDescr):\n",
    "        print(f\"import from file: {arch.source.absolute()}\")\n",
    "        if arch.sha256 is not None:\n",
    "            print(f\"SHA-256: {arch.sha256}\")\n",
    "    elif isinstance(arch, ArchitectureFromLibraryDescr):\n",
    "        print(f\"import from module: {arch.import_from}\")\n",
    "    else:\n",
    "        assert_never(arch)"
   ]
  },
  {
   "cell_type": "markdown",
   "metadata": {},
   "source": [
    "# **Create a new model description**\n",
    "\n",
    "Creating a model description with bioimageio.spec means creating a `bioimageio.spec.model.ModelDescr` object. This description object can be exported and uploaded to the BioImage Model Zoo or deployed directly with community partner software.\n",
    "\n",
    "\n",
    "Without any input arguments, initializing a `ModelDescr` will raise a `ValidationError` listing missing required fields:"
   ]
  },
  {
   "cell_type": "code",
   "execution_count": 13,
   "metadata": {},
   "outputs": [
    {
     "ename": "ValidationError",
     "evalue": "9 validation errors for ModelDescr:\nname\n  Field required [input={'format_version': '0.5.4', 'type': 'model'}]\ndescription\n  Field required [input={'format_version': '0.5.4', 'type': 'model'}]\nauthors\n  Field required [input={'format_version': '0.5.4', 'type': 'model'}]\ncite\n  Field required [input={'format_version': '0.5.4', 'type': 'model'}]\nlicense\n  Field required [input={'format_version': '0.5.4', 'type': 'model'}]\ndocumentation\n  Field required [input={'format_version': '0.5.4', 'type': 'model'}]\ninputs\n  Field required [input={'format_version': '0.5.4', 'type': 'model'}]\noutputs\n  Field required [input={'format_version': '0.5.4', 'type': 'model'}]\nweights\n  Field required [input={'format_version': '0.5.4', 'type': 'model'}]",
     "output_type": "error",
     "traceback": [
      "\u001b[1;31m---------------------------------------------------------------------------\u001b[0m",
      "\u001b[1;31mValidationError\u001b[0m                           Traceback (most recent call last)",
      "Cell \u001b[1;32mIn[13], line 3\u001b[0m\n\u001b[0;32m      1\u001b[0m \u001b[38;5;28;01mfrom\u001b[39;00m \u001b[38;5;21;01mbioimageio\u001b[39;00m\u001b[38;5;21;01m.\u001b[39;00m\u001b[38;5;21;01mspec\u001b[39;00m\u001b[38;5;21;01m.\u001b[39;00m\u001b[38;5;21;01mmodel\u001b[39;00m\u001b[38;5;21;01m.\u001b[39;00m\u001b[38;5;21;01mv0_5\u001b[39;00m \u001b[38;5;28;01mimport\u001b[39;00m ModelDescr\n\u001b[1;32m----> 3\u001b[0m _ \u001b[38;5;241m=\u001b[39m \u001b[43mModelDescr\u001b[49m\u001b[43m(\u001b[49m\u001b[43m)\u001b[49m  \u001b[38;5;66;03m# pyright: ignore[reportCallIssue]\u001b[39;00m\n",
      "\u001b[1;31mValidationError\u001b[0m: 9 validation errors for ModelDescr:\nname\n  Field required [input={'format_version': '0.5.4', 'type': 'model'}]\ndescription\n  Field required [input={'format_version': '0.5.4', 'type': 'model'}]\nauthors\n  Field required [input={'format_version': '0.5.4', 'type': 'model'}]\ncite\n  Field required [input={'format_version': '0.5.4', 'type': 'model'}]\nlicense\n  Field required [input={'format_version': '0.5.4', 'type': 'model'}]\ndocumentation\n  Field required [input={'format_version': '0.5.4', 'type': 'model'}]\ninputs\n  Field required [input={'format_version': '0.5.4', 'type': 'model'}]\noutputs\n  Field required [input={'format_version': '0.5.4', 'type': 'model'}]\nweights\n  Field required [input={'format_version': '0.5.4', 'type': 'model'}]"
     ]
    }
   ],
   "source": [
    "from bioimageio.spec.model.v0_5 import ModelDescr\n",
    "\n",
    "_ = ModelDescr()  # pyright: ignore[reportCallIssue]"
   ]
  },
  {
   "cell_type": "markdown",
   "metadata": {},
   "source": [
    "To populate a `ModelDescr` appropriately we need to create the required subparts. This is part of the model metadata needed to document the model and ensure its correct deployment."
   ]
  },
  {
   "cell_type": "markdown",
   "metadata": {},
   "source": [
    "### Inputs\n",
    "\n",
    "The `inputs` field is defined as a sequence of `InputTensorDescr` objects. We can inspect the required arguments for `InputTensorDescr` by attempting to intialise and inspect the validation error. A model may require multiple inputs, which should be specified as a sequence of inputs. In this example our model only requires a single input as specified below."
   ]
  },
  {
   "cell_type": "code",
   "execution_count": 14,
   "metadata": {},
   "outputs": [
    {
     "ename": "ValidationError",
     "evalue": "2 validation errors for InputTensorDescr:\naxes\n  Field required [input={}]\ntest_tensor\n  Field required [input={}]",
     "output_type": "error",
     "traceback": [
      "\u001b[1;31m---------------------------------------------------------------------------\u001b[0m",
      "\u001b[1;31mValidationError\u001b[0m                           Traceback (most recent call last)",
      "Cell \u001b[1;32mIn[14], line 3\u001b[0m\n\u001b[0;32m      1\u001b[0m \u001b[38;5;28;01mfrom\u001b[39;00m \u001b[38;5;21;01mbioimageio\u001b[39;00m\u001b[38;5;21;01m.\u001b[39;00m\u001b[38;5;21;01mspec\u001b[39;00m\u001b[38;5;21;01m.\u001b[39;00m\u001b[38;5;21;01mmodel\u001b[39;00m\u001b[38;5;21;01m.\u001b[39;00m\u001b[38;5;21;01mv0_5\u001b[39;00m \u001b[38;5;28;01mimport\u001b[39;00m InputTensorDescr\n\u001b[1;32m----> 3\u001b[0m _ \u001b[38;5;241m=\u001b[39m \u001b[43mInputTensorDescr\u001b[49m\u001b[43m(\u001b[49m\u001b[43m)\u001b[49m  \u001b[38;5;66;03m# pyright: ignore[reportCallIssue]\u001b[39;00m\n",
      "\u001b[1;31mValidationError\u001b[0m: 2 validation errors for InputTensorDescr:\naxes\n  Field required [input={}]\ntest_tensor\n  Field required [input={}]"
     ]
    }
   ],
   "source": [
    "from bioimageio.spec.model.v0_5 import InputTensorDescr\n",
    "\n",
    "_ = InputTensorDescr()  # pyright: ignore[reportCallIssue]"
   ]
  },
  {
   "cell_type": "code",
   "execution_count": 32,
   "metadata": {},
   "outputs": [],
   "source": [
    "from bioimageio.spec.model.v0_5 import (\n",
    "    AxisId,\n",
    "    BatchAxis,\n",
    "    ChannelAxis,\n",
    "    HttpUrl,\n",
    "    FileDescr,\n",
    "    Identifier,\n",
    "    InputTensorDescr,\n",
    "    IntervalOrRatioDataDescr,\n",
    "    ParameterizedSize,\n",
    "    SpaceInputAxis,\n",
    "    TensorId,\n",
    ")\n",
    "\n",
    "data_root = \"https://uk1s3.embassy.ebi.ac.uk/public-datasets/bioimage.io/affable-shark/1.2/files/\"\n",
    "\n",
    "my_model_inputs = [\n",
    "    InputTensorDescr(\n",
    "        id=TensorId(\"raw\"),\n",
    "        axes=[\n",
    "            BatchAxis(),\n",
    "            ChannelAxis(channel_names=[Identifier(\"raw\")]),\n",
    "            SpaceInputAxis(id=AxisId(\"y\"), size=ParameterizedSize(min=64, step=16)),\n",
    "            SpaceInputAxis(id=AxisId(\"x\"), size=ParameterizedSize(min=64, step=16)),\n",
    "        ],\n",
    "        data=IntervalOrRatioDataDescr(type=\"float32\"),\n",
    "        test_tensor=FileDescr(source=HttpUrl(data_root + \"test_input_0.npy\")),\n",
    "        sample_tensor=FileDescr(source=HttpUrl(data_root + \"sample_input_0.tif\")),\n",
    "    )\n",
    "]"
   ]
  },
  {
   "cell_type": "markdown",
   "metadata": {},
   "source": [
    "### Outputs\n",
    "\n",
    "The outputs field is defined as a sequence of `OutputTensorDescr` objects. We can inspect the required arguments for `OutputTensorDescr` by attempting to intialise an empty object. A model may produce multiple outputs, but in this example our model only produces a single output as specified below."
   ]
  },
  {
   "cell_type": "code",
   "execution_count": 33,
   "metadata": {},
   "outputs": [
    {
     "ename": "ValidationError",
     "evalue": "2 validation errors for OutputTensorDescr:\naxes\n  Field required [input={}]\ntest_tensor\n  Field required [input={}]",
     "output_type": "error",
     "traceback": [
      "\u001b[1;31m---------------------------------------------------------------------------\u001b[0m",
      "\u001b[1;31mValidationError\u001b[0m                           Traceback (most recent call last)",
      "Cell \u001b[1;32mIn[33], line 3\u001b[0m\n\u001b[0;32m      1\u001b[0m \u001b[38;5;28;01mfrom\u001b[39;00m \u001b[38;5;21;01mbioimageio\u001b[39;00m\u001b[38;5;21;01m.\u001b[39;00m\u001b[38;5;21;01mspec\u001b[39;00m\u001b[38;5;21;01m.\u001b[39;00m\u001b[38;5;21;01mmodel\u001b[39;00m\u001b[38;5;21;01m.\u001b[39;00m\u001b[38;5;21;01mv0_5\u001b[39;00m \u001b[38;5;28;01mimport\u001b[39;00m OutputTensorDescr\n\u001b[1;32m----> 3\u001b[0m _ \u001b[38;5;241m=\u001b[39m \u001b[43mOutputTensorDescr\u001b[49m\u001b[43m(\u001b[49m\u001b[43m)\u001b[49m  \u001b[38;5;66;03m# pyright: ignore[reportCallIssue]\u001b[39;00m\n",
      "\u001b[1;31mValidationError\u001b[0m: 2 validation errors for OutputTensorDescr:\naxes\n  Field required [input={}]\ntest_tensor\n  Field required [input={}]"
     ]
    }
   ],
   "source": [
    "from bioimageio.spec.model.v0_5 import OutputTensorDescr\n",
    "\n",
    "_ = OutputTensorDescr()  # pyright: ignore[reportCallIssue]"
   ]
  },
  {
   "cell_type": "code",
   "execution_count": 34,
   "metadata": {},
   "outputs": [],
   "source": [
    "from bioimageio.spec.model.v0_5 import (\n",
    "    OutputTensorDescr,\n",
    "    SizeReference,\n",
    "    SpaceOutputAxisWithHalo,\n",
    ")\n",
    "\n",
    "assert isinstance(model.outputs[0].axes[1], ChannelAxis)\n",
    "my_model_outputs = [\n",
    "    OutputTensorDescr(\n",
    "        id=TensorId(\"predictions\"),\n",
    "        axes=[\n",
    "            BatchAxis(),\n",
    "            ChannelAxis(\n",
    "                channel_names=[\n",
    "                    Identifier(\"nuclei_probability\"),\n",
    "                    Identifier(\"membrane_probability\"),\n",
    "                ]\n",
    "            ),\n",
    "            SpaceOutputAxisWithHalo(\n",
    "                id=AxisId(\"y\"),\n",
    "                halo=16,\n",
    "                size=SizeReference(tensor_id=TensorId(\"raw\"), axis_id=AxisId(\"y\")),\n",
    "            ),  # same size as input (tensor `raw`) axis `y`\n",
    "            SpaceOutputAxisWithHalo(\n",
    "                id=AxisId(\"x\"),\n",
    "                halo=16,\n",
    "                size=SizeReference(tensor_id=TensorId(\"raw\"), axis_id=AxisId(\"x\")),\n",
    "            ),\n",
    "        ],\n",
    "        test_tensor=FileDescr(source=HttpUrl(data_root + \"test_output_0.npy\")),\n",
    "        sample_tensor=FileDescr(source=HttpUrl(data_root + \"sample_output_0.tif\")),\n",
    "    )\n",
    "]"
   ]
  },
  {
   "cell_type": "markdown",
   "metadata": {},
   "source": [
    "### Network weights\n",
    "\n",
    "Next we need to define the network weights.\n",
    "\n",
    "In this example we use a `PytorchStateDictWeightsDescr` to describe weights saved in PyTorch's default 'state dict' format. \n",
    "\n",
    "Let's see what fields we need to fill out..."
   ]
  },
  {
   "cell_type": "code",
   "execution_count": 35,
   "metadata": {},
   "outputs": [
    {
     "ename": "ValidationError",
     "evalue": "3 validation errors for PytorchStateDictWeightsDescr:\nsource\n  Field required [input={}]\narchitecture\n  Field required [input={}]\npytorch_version\n  Field required [input={}]",
     "output_type": "error",
     "traceback": [
      "\u001b[1;31m---------------------------------------------------------------------------\u001b[0m",
      "\u001b[1;31mValidationError\u001b[0m                           Traceback (most recent call last)",
      "Cell \u001b[1;32mIn[35], line 3\u001b[0m\n\u001b[0;32m      1\u001b[0m \u001b[38;5;28;01mfrom\u001b[39;00m \u001b[38;5;21;01mbioimageio\u001b[39;00m\u001b[38;5;21;01m.\u001b[39;00m\u001b[38;5;21;01mspec\u001b[39;00m\u001b[38;5;21;01m.\u001b[39;00m\u001b[38;5;21;01mmodel\u001b[39;00m\u001b[38;5;21;01m.\u001b[39;00m\u001b[38;5;21;01mv0_5\u001b[39;00m \u001b[38;5;28;01mimport\u001b[39;00m PytorchStateDictWeightsDescr\n\u001b[1;32m----> 3\u001b[0m _ \u001b[38;5;241m=\u001b[39m \u001b[43mPytorchStateDictWeightsDescr\u001b[49m\u001b[43m(\u001b[49m\u001b[43m)\u001b[49m  \u001b[38;5;66;03m# pyright: ignore[reportCallIssue]\u001b[39;00m\n",
      "\u001b[1;31mValidationError\u001b[0m: 3 validation errors for PytorchStateDictWeightsDescr:\nsource\n  Field required [input={}]\narchitecture\n  Field required [input={}]\npytorch_version\n  Field required [input={}]"
     ]
    }
   ],
   "source": [
    "from bioimageio.spec.model.v0_5 import PytorchStateDictWeightsDescr\n",
    "\n",
    "_ = PytorchStateDictWeightsDescr()  # pyright: ignore[reportCallIssue]"
   ]
  },
  {
   "cell_type": "markdown",
   "metadata": {},
   "source": [
    "#### Network architecture\n",
    "\n",
    "As we use PyTorch state dict weights in this example,  in addition to the trained weights we need to specify the network architecture. \n",
    "We can specify the network architecture using either the `ArchitectureFromFileDescr` or `ArchitectureFromLibraryDescr` objects. \n",
    "\n",
    "Use`ArchitectureFromFileDescr` if you have a custom source code file that implements your network architecture.\n",
    "\n",
    "Use `ArchitectureFromLibraryDescr` to reference a callable from a published Python library."
   ]
  },
  {
   "cell_type": "code",
   "execution_count": 54,
   "metadata": {},
   "outputs": [],
   "source": [
    "import torch\n",
    "\n",
    "from bioimageio.spec.model.v0_5 import (\n",
    "    ArchitectureFromFileDescr,\n",
    "    Sha256,\n",
    "    Version,\n",
    ")\n",
    "\n",
    "my_architecture = ArchitectureFromFileDescr(\n",
    "    source=HttpUrl(data_root + \"unet.py\"),\n",
    "    sha256=Sha256(\"7f5b15948e8e2c91f78dcff34fbf30af517073e91ba487f3edb982b948d099b3\"),\n",
    "    callable=Identifier(\"UNet2d\"),\n",
    "    kwargs=dict(\n",
    "        depth=4,\n",
    "        final_activation=\"Sigmoid\",\n",
    "        gain=2,\n",
    "        in_channels=1,\n",
    "        initial_features=64,\n",
    "        out_channels=2,\n",
    "        postprocessing=None,\n",
    "        return_side_outputs=False,\n",
    "    ),\n",
    ")"
   ]
  },
  {
   "cell_type": "markdown",
   "metadata": {},
   "source": [
    "With the described architecture we can create a `PytorchStateDictWeightsDescr` like so:"
   ]
  },
  {
   "cell_type": "code",
   "execution_count": 55,
   "metadata": {},
   "outputs": [],
   "source": [
    "from bioimageio.spec.model.v0_5 import PytorchStateDictWeightsDescr\n",
    "\n",
    "my_pytorch_state_dict_weights = PytorchStateDictWeightsDescr(\n",
    "    source=HttpUrl(data_root + \"weights.pt\"),\n",
    "    sha256=Sha256(\"608f52cd7f5119f7a7b8272395b0c169714e8be34536eaf159820f72a1d6a5b7\"),\n",
    "    architecture=my_architecture,\n",
    "    pytorch_version=Version(torch.__version__),\n",
    ")"
   ]
  },
  {
   "cell_type": "markdown",
   "metadata": {},
   "source": [
    "Let's also describe TorchScript weights (that we converted from the Pytorch State Dict weights that we got from training the network). "
   ]
  },
  {
   "cell_type": "code",
   "execution_count": 56,
   "metadata": {},
   "outputs": [],
   "source": [
    "from bioimageio.spec.model.v0_5 import TorchscriptWeightsDescr\n",
    "\n",
    "my_torchscript_weights = TorchscriptWeightsDescr(\n",
    "    source=HttpUrl(data_root + \"weights-torchscript.pt\"),\n",
    "    sha256=Sha256(\"8410950508655a300793b389c815dc30b1334062fc1dadb1e15e55a93cbb99a0\"),\n",
    "    pytorch_version=Version(torch.__version__),\n",
    "    parent=\"pytorch_state_dict\",  # these weights were converted from the pytorch_state_dict weights ones.\n",
    ")"
   ]
  },
  {
   "cell_type": "markdown",
   "metadata": {},
   "source": [
    "### FAIR metadata"
   ]
  },
  {
   "cell_type": "code",
   "execution_count": 57,
   "metadata": {},
   "outputs": [],
   "source": [
    "from bioimageio.spec.model.v0_5 import (\n",
    "    Author,\n",
    "    CiteEntry,\n",
    "    Doi,\n",
    "    HttpUrl,\n",
    "    LicenseId,\n",
    ")\n",
    "\n",
    "my_model_name = \"My cool Model\"\n",
    "my_model_description = \"A test model for demonstration purposes only\"\n",
    "my_model_authors = [\n",
    "    Author(name=\"me\", affiliation=\"my institute\", github_user=\"bioimageiobot\")\n",
    "]  # change github_user to your GitHub account name\n",
    "my_model_citations = [\n",
    "    CiteEntry(text=\"for model training see my paper\", doi=Doi(\"10.1234something\"))\n",
    "]\n",
    "my_model_license = LicenseId(\"MIT\")\n",
    "my_model_documentation = HttpUrl(\n",
    "    \"https://uk1s3.embassy.ebi.ac.uk/public-datasets/bioimage.io/affable-shark/1.2/files/documentation.md\"\n",
    ")\n",
    "my_model_git_repo = HttpUrl(\"https://github.com/constantinpape/torch-em\")"
   ]
  },
  {
   "cell_type": "markdown",
   "metadata": {},
   "source": [
    "### Putting it all together to create your model\n",
    "\n",
    "Amazing!!! You are now ready to put it all together into a single model description."
   ]
  },
  {
   "cell_type": "code",
   "execution_count": 58,
   "metadata": {},
   "outputs": [
    {
     "name": "stderr",
     "output_type": "stream",
     "text": [
      "\u001b[32m2025-05-26 23:12:46.813\u001b[0m | Level 30\u001b[0m | \u001b[36mbioimageio.spec.model.v0_5\u001b[0m:\u001b[36m_add_default_cover\u001b[0m:\u001b[36m2911\u001b[0m - covers: Failed to generate cover image(s): Failed to construct cover image from shape (1, 2, 256, 256)\u001b[0m\n"
     ]
    },
    {
     "name": "stdout",
     "output_type": "stream",
     "text": [
      "created 'My cool Model'\n"
     ]
    }
   ],
   "source": [
    "from bioimageio.spec.model.v0_5 import WeightsDescr\n",
    "\n",
    "my_model = ModelDescr(\n",
    "    name=my_model_name,\n",
    "    description=my_model_description,\n",
    "    documentation=my_model_documentation,\n",
    "    authors=my_model_authors,\n",
    "    cite=my_model_citations,\n",
    "    license=my_model_license,\n",
    "    git_repo=my_model_git_repo,  # change to repo where your model is developed\n",
    "    inputs=my_model_inputs,\n",
    "    # inputs=[input_descr],  # try out our recreated input description\n",
    "    outputs=my_model_outputs,\n",
    "    # outputs=[output_descr],  # try out our recreated input description\n",
    "    weights=WeightsDescr(\n",
    "        pytorch_state_dict=my_pytorch_state_dict_weights,\n",
    "        torchscript=my_torchscript_weights,\n",
    "    ),\n",
    ")\n",
    "print(f\"created '{my_model.name}'\")"
   ]
  },
  {
   "cell_type": "markdown",
   "metadata": {},
   "source": [
    "### An extra note -- Default values (e.g. Covers)\n",
    "\n",
    "Some optional fields may be filled with default values, e.g., we did not specify the optional `covers` field.\n",
    "When possible, a default visualization of the test inputs and test outputs is generated.\n",
    "When the input or the output have more than one channel, the current implementation cannot generate a cover image automatically."
   ]
  },
  {
   "cell_type": "markdown",
   "metadata": {},
   "source": [
    "## Validation of the new model\n",
    "\n",
    "### Format summary\n",
    "\n",
    "\n",
    "On creation a model must meet the format specification and validation is run implcitly. We already saw this above when we purposely intilaised empty description objects during creation of the model description.\n",
    "\n",
    "Below we can inspect a summary of the corresponding validation by accessing the `validation_summary` attribute.\n",
    "\n",
    "The validation summary will indicate:\n",
    "- the version of the `bioimageio.spec` library used to run the validation\n",
    "- the status of several validation steps\n",
    "    - ✔️: Success\n",
    "    - 🔍: information about the validation context\n",
    "    - ⚠: Warning\n",
    "    - ❌: Error\n",
    "\n",
    "To display the validaiton summary in a terminal or notebook we recommend to run:"
   ]
  },
  {
   "cell_type": "code",
   "execution_count": 59,
   "metadata": {},
   "outputs": [
    {
     "data": {
      "text/html": [
       "<table>\n",
       "  <tr>\n",
       "    <th>🟡</th>\n",
       "    <th>bioimageio format validation</th>\n",
       "  </tr>\n",
       "  <tr>\n",
       "    <td>status</td>\n",
       "    <td>valid-format</td>\n",
       "  </tr>\n",
       "  <tr>\n",
       "    <td>source</td>\n",
       "    <td>in-memory</td>\n",
       "  </tr>\n",
       "  <tr>\n",
       "    <td>format version</td>\n",
       "    <td>model 0.5.4</td>\n",
       "  </tr>\n",
       "  <tr>\n",
       "    <td>bioimageio.spec</td>\n",
       "    <td>0.5.4.1</td>\n",
       "  </tr>\n",
       "</table>\n",
       "<table>\n",
       "  <tr>\n",
       "    <th></th>\n",
       "    <th>Location</th>\n",
       "    <th>Details</th>\n",
       "  </tr>\n",
       "  <tr>\n",
       "    <td>✔️</td>\n",
       "    <td></td>\n",
       "    <td>Successfully created `ModelDescr` object.</td>\n",
       "  </tr>\n",
       "  <tr>\n",
       "    <td>🔍</td>\n",
       "    <td>`context:perform_io_checks`</td>\n",
       "    <td>True</td>\n",
       "  </tr>\n",
       "  <tr>\n",
       "    <td>🔍</td>\n",
       "    <td>`context:root`</td>\n",
       "    <td>.</td>\n",
       "  </tr>\n",
       "</table>"
      ]
     },
     "metadata": {},
     "output_type": "display_data"
    }
   ],
   "source": [
    "my_model.validation_summary.display()"
   ]
  },
  {
   "cell_type": "markdown",
   "metadata": {},
   "source": [
    "### Test Model\n",
    "\n",
    "In addition to having a correctly formatted description we also require the model to pass further tests, e.g. producing the correct test output image(s) from the test input image(s). If you have the `bioimageio.core` library installed, you can conveniently run model tests as below."
   ]
  },
  {
   "cell_type": "code",
   "execution_count": 60,
   "metadata": {},
   "outputs": [
    {
     "name": "stderr",
     "output_type": "stream",
     "text": [
      "\u001b[32m2025-05-26 23:13:06.256\u001b[0m | \u001b[34m\u001b[1mDEBUG   \u001b[0m | \u001b[36mbioimageio.core._resource_tests\u001b[0m:\u001b[36m_test_model_inference\u001b[0m:\u001b[36m593\u001b[0m - \u001b[34m\u001b[1mstarting 'Reproduce test outputs from test inputs (pytorch_state_dict)'\u001b[0m\n",
      "\u001b[32m2025-05-26 23:13:11.464\u001b[0m | \u001b[33m\u001b[1mWARNING \u001b[0m | \u001b[36mbioimageio.spec._get_conda_env\u001b[0m:\u001b[36m_get_default_pytorch_env\u001b[0m:\u001b[36m156\u001b[0m - \u001b[33m\u001b[1mUPDATE NEEDED: Leaving torchvision and torchaudio unpinned for pytorch==2.6.0\u001b[0m\n",
      "\u001b[32m2025-05-26 23:13:38.445\u001b[0m | \u001b[1mINFO    \u001b[0m | \u001b[36mbioimageio.core._resource_tests\u001b[0m:\u001b[36m_test_model_inference_parametrized\u001b[0m:\u001b[36m705\u001b[0m - \u001b[1mTesting inference with 6 different inputs (B, N): {(1, 2), (2, 1), (1, 1), (2, 0), (2, 2), (1, 0)}\u001b[0m\n",
      "\u001b[32m2025-05-26 23:13:44.063\u001b[0m | \u001b[34m\u001b[1mDEBUG   \u001b[0m | \u001b[36mbioimageio.core._resource_tests\u001b[0m:\u001b[36m_test_model_inference\u001b[0m:\u001b[36m593\u001b[0m - \u001b[34m\u001b[1mstarting 'Reproduce test outputs from test inputs (torchscript)'\u001b[0m\n",
      "\u001b[32m2025-05-26 23:13:48.132\u001b[0m | \u001b[33m\u001b[1mWARNING \u001b[0m | \u001b[36mbioimageio.spec._get_conda_env\u001b[0m:\u001b[36m_get_default_pytorch_env\u001b[0m:\u001b[36m156\u001b[0m - \u001b[33m\u001b[1mUPDATE NEEDED: Leaving torchvision and torchaudio unpinned for pytorch==2.6.0\u001b[0m\n",
      "\u001b[32m2025-05-26 23:14:07.962\u001b[0m | \u001b[1mINFO    \u001b[0m | \u001b[36mbioimageio.core._resource_tests\u001b[0m:\u001b[36m_test_model_inference_parametrized\u001b[0m:\u001b[36m705\u001b[0m - \u001b[1mTesting inference with 6 different inputs (B, N): {(1, 2), (2, 1), (1, 1), (2, 0), (2, 2), (1, 0)}\u001b[0m\n"
     ]
    },
    {
     "data": {
      "text/html": [
       "<table>\n",
       "  <tr>\n",
       "    <th>✔️</th>\n",
       "    <th>bioimageio format validation</th>\n",
       "  </tr>\n",
       "  <tr>\n",
       "    <td>status</td>\n",
       "    <td>passed</td>\n",
       "  </tr>\n",
       "  <tr>\n",
       "    <td>source</td>\n",
       "    <td>in-memory</td>\n",
       "  </tr>\n",
       "  <tr>\n",
       "    <td>format version</td>\n",
       "    <td>model 0.5.4</td>\n",
       "  </tr>\n",
       "  <tr>\n",
       "    <td>bioimageio.spec</td>\n",
       "    <td>0.5.4.1</td>\n",
       "  </tr>\n",
       "  <tr>\n",
       "    <td>bioimageio.core</td>\n",
       "    <td>0.8.0</td>\n",
       "  </tr>\n",
       "</table>\n",
       "<table>\n",
       "  <tr>\n",
       "    <th></th>\n",
       "    <th>Location</th>\n",
       "    <th>Details</th>\n",
       "  </tr>\n",
       "  <tr>\n",
       "    <td>✔️</td>\n",
       "    <td></td>\n",
       "    <td>Successfully created `ModelDescr` object.</td>\n",
       "  </tr>\n",
       "  <tr>\n",
       "    <td>🔍</td>\n",
       "    <td>`context:perform_io_checks`</td>\n",
       "    <td>True</td>\n",
       "  </tr>\n",
       "  <tr>\n",
       "    <td>🔍</td>\n",
       "    <td>`context:root`</td>\n",
       "    <td>.</td>\n",
       "  </tr>\n",
       "  <tr>\n",
       "    <td>✔️</td>\n",
       "    <td><code>type</code></td>\n",
       "    <td>Has expected resource type</td>\n",
       "  </tr>\n",
       "  <tr>\n",
       "    <td>✔️</td>\n",
       "    <td><code>weights.pytorch_state_dict</code></td>\n",
       "    <td>Reproduce test outputs from test inputs (pytorch_state_dict)</td>\n",
       "  </tr>\n",
       "  <tr>\n",
       "    <td>🐍</td>\n",
       "    <td><code>weights.pytorch_state_dict</code></td>\n",
       "    <td><pre>recommended conda env for:\n",
       "Reproduce test outputs from test inputs (pytorch_state_dict)\n",
       "<pre lang=\"yaml\">%YAML 1.2\n",
       "---\n",
       "channels:\n",
       "  - conda-forge\n",
       "  - nodefaults\n",
       "dependencies:\n",
       "  - conda-forge::bioimageio.core\n",
       "  - numpy >=2,<3\n",
       "  - pip\n",
       "  - pytorch==2.6.0\n",
       "  - torchaudio\n",
       "  - torchvision\n",
       "</pre></pre></td>\n",
       "  </tr>\n",
       "  <tr>\n",
       "    <td>🐍</td>\n",
       "    <td><code>weights.pytorch_state_dict</code></td>\n",
       "    <td><pre>conda compare (Reproduce test outputs from test inputs (pytorch_state_dict)):\n",
       "<pre>bioimageio.core not found\n",
       "numpy found but mismatch. Specification pkg: numpy[version='>=2,<3'], Running pkg: numpy==1.26.4=py311h0b4df5a_0\n",
       "torchaudio not found\n",
       "</pre></pre></td>\n",
       "  </tr>\n",
       "  <tr>\n",
       "    <td>✔️</td>\n",
       "    <td><code>weights.pytorch_state_dict</code></td>\n",
       "    <td>Run pytorch_state_dict inference for inputs with batch_size: 1 and size parameter n: 0</td>\n",
       "  </tr>\n",
       "  <tr>\n",
       "    <td>✔️</td>\n",
       "    <td><code>weights.pytorch_state_dict</code></td>\n",
       "    <td>Run pytorch_state_dict inference for inputs with batch_size: 1 and size parameter n: 1</td>\n",
       "  </tr>\n",
       "  <tr>\n",
       "    <td>✔️</td>\n",
       "    <td><code>weights.pytorch_state_dict</code></td>\n",
       "    <td>Run pytorch_state_dict inference for inputs with batch_size: 1 and size parameter n: 2</td>\n",
       "  </tr>\n",
       "  <tr>\n",
       "    <td>✔️</td>\n",
       "    <td><code>weights.pytorch_state_dict</code></td>\n",
       "    <td>Run pytorch_state_dict inference for inputs with batch_size: 2 and size parameter n: 0</td>\n",
       "  </tr>\n",
       "  <tr>\n",
       "    <td>✔️</td>\n",
       "    <td><code>weights.pytorch_state_dict</code></td>\n",
       "    <td>Run pytorch_state_dict inference for inputs with batch_size: 2 and size parameter n: 1</td>\n",
       "  </tr>\n",
       "  <tr>\n",
       "    <td>✔️</td>\n",
       "    <td><code>weights.pytorch_state_dict</code></td>\n",
       "    <td>Run pytorch_state_dict inference for inputs with batch_size: 2 and size parameter n: 2</td>\n",
       "  </tr>\n",
       "  <tr>\n",
       "    <td>✔️</td>\n",
       "    <td><code>weights.torchscript</code></td>\n",
       "    <td>Reproduce test outputs from test inputs (torchscript)</td>\n",
       "  </tr>\n",
       "  <tr>\n",
       "    <td>🐍</td>\n",
       "    <td><code>weights.torchscript</code></td>\n",
       "    <td><pre>recommended conda env for:\n",
       "Reproduce test outputs from test inputs (torchscript)\n",
       "<pre lang=\"yaml\">%YAML 1.2\n",
       "---\n",
       "channels:\n",
       "  - conda-forge\n",
       "  - nodefaults\n",
       "dependencies:\n",
       "  - conda-forge::bioimageio.core\n",
       "  - numpy >=2,<3\n",
       "  - pip\n",
       "  - pytorch==2.6.0\n",
       "  - torchaudio\n",
       "  - torchvision\n",
       "</pre></pre></td>\n",
       "  </tr>\n",
       "  <tr>\n",
       "    <td>🐍</td>\n",
       "    <td><code>weights.torchscript</code></td>\n",
       "    <td><pre>conda compare (Reproduce test outputs from test inputs (torchscript)):\n",
       "<pre>bioimageio.core not found\n",
       "numpy found but mismatch. Specification pkg: numpy[version='>=2,<3'], Running pkg: numpy==1.26.4=py311h0b4df5a_0\n",
       "torchaudio not found\n",
       "</pre></pre></td>\n",
       "  </tr>\n",
       "  <tr>\n",
       "    <td>✔️</td>\n",
       "    <td><code>weights.torchscript</code></td>\n",
       "    <td>Run torchscript inference for inputs with batch_size: 1 and size parameter n: 0</td>\n",
       "  </tr>\n",
       "  <tr>\n",
       "    <td>✔️</td>\n",
       "    <td><code>weights.torchscript</code></td>\n",
       "    <td>Run torchscript inference for inputs with batch_size: 1 and size parameter n: 1</td>\n",
       "  </tr>\n",
       "  <tr>\n",
       "    <td>✔️</td>\n",
       "    <td><code>weights.torchscript</code></td>\n",
       "    <td>Run torchscript inference for inputs with batch_size: 1 and size parameter n: 2</td>\n",
       "  </tr>\n",
       "  <tr>\n",
       "    <td>✔️</td>\n",
       "    <td><code>weights.torchscript</code></td>\n",
       "    <td>Run torchscript inference for inputs with batch_size: 2 and size parameter n: 0</td>\n",
       "  </tr>\n",
       "  <tr>\n",
       "    <td>✔️</td>\n",
       "    <td><code>weights.torchscript</code></td>\n",
       "    <td>Run torchscript inference for inputs with batch_size: 2 and size parameter n: 1</td>\n",
       "  </tr>\n",
       "  <tr>\n",
       "    <td>✔️</td>\n",
       "    <td><code>weights.torchscript</code></td>\n",
       "    <td>Run torchscript inference for inputs with batch_size: 2 and size parameter n: 2</td>\n",
       "  </tr>\n",
       "</table>"
      ]
     },
     "metadata": {},
     "output_type": "display_data"
    }
   ],
   "source": [
    "from bioimageio.core import test_model\n",
    "\n",
    "summary = test_model(my_model)\n",
    "summary.display()"
   ]
  },
  {
   "cell_type": "markdown",
   "metadata": {},
   "source": [
    "For a more extensive example of the use of bioimageio.core, check out [model_usage.ipynb](https://github.com/bioimage-io/core-bioimage-io-python/blob/main/example/model_usage.ipynb).\n",
    "The bioimageio.core library is documented [here](https://bioimage-io.github.io/core-bioimage-io-python/bioimageio/core.html)."
   ]
  },
  {
   "cell_type": "markdown",
   "metadata": {},
   "source": [
    "## Package your model\n",
    "\n",
    "A model is more than it's YAML description file! We refer to a zip-file containing all files relevant to a model as a model package."
   ]
  },
  {
   "cell_type": "code",
   "execution_count": 61,
   "metadata": {},
   "outputs": [
    {
     "name": "stderr",
     "output_type": "stream",
     "text": [
      "c:\\Users\\fbeut\\miniforge3\\envs\\core\\Lib\\site-packages\\pydantic\\_internal\\_serializers.py:42: UserWarning: Pydantic serializer warnings:\n",
      "  PydanticSerializationUnexpectedValue: Expected `TimeOutputAxis` but got `SpaceOutputAxisWithHalo` with value `SpaceOutputAxisWithHalo(h...', unit=None, scale=1.0)` - serialized value may not be as expected\n",
      "  PydanticSerializationUnexpectedValue: Expected `TimeOutputAxisWithHalo` but got `SpaceOutputAxisWithHalo` with value `SpaceOutputAxisWithHalo(h...', unit=None, scale=1.0)` - serialized value may not be as expected\n",
      "  v = handler(item, index)\n",
      "c:\\Users\\fbeut\\miniforge3\\envs\\core\\Lib\\site-packages\\pydantic\\_internal\\_serializers.py:42: UserWarning: Pydantic serializer warnings:\n",
      "  PydanticSerializationUnexpectedValue: Expected `TimeOutputAxis` but got `SpaceOutputAxisWithHalo` with value `SpaceOutputAxisWithHalo(h...', unit=None, scale=1.0)` - serialized value may not be as expected\n",
      "  PydanticSerializationUnexpectedValue: Expected `TimeOutputAxisWithHalo` but got `SpaceOutputAxisWithHalo` with value `SpaceOutputAxisWithHalo(h...', unit=None, scale=1.0)` - serialized value may not be as expected\n",
      "  PydanticSerializationUnexpectedValue: Expected `TimeOutputAxis` but got `SpaceOutputAxisWithHalo` with value `SpaceOutputAxisWithHalo(h...', unit=None, scale=1.0)` - serialized value may not be as expected\n",
      "  PydanticSerializationUnexpectedValue: Expected `TimeOutputAxisWithHalo` but got `SpaceOutputAxisWithHalo` with value `SpaceOutputAxisWithHalo(h...', unit=None, scale=1.0)` - serialized value may not be as expected\n",
      "  v = handler(item, index)\n",
      "\u001b[32m2025-05-26 23:15:43.682\u001b[0m | Level 30\u001b[0m | \u001b[36mbioimageio.spec.model.v0_5\u001b[0m:\u001b[36m_add_default_cover\u001b[0m:\u001b[36m2911\u001b[0m - covers: Failed to generate cover image(s): Failed to construct cover image from shape (1, 2, 256, 256)\u001b[0m\n"
     ]
    },
    {
     "name": "stdout",
     "output_type": "stream",
     "text": [
      "package path: my_model.zip\n"
     ]
    }
   ],
   "source": [
    "from pathlib import Path\n",
    "\n",
    "from bioimageio.spec import save_bioimageio_package\n",
    "\n",
    "print(\n",
    "    \"package path:\",\n",
    "    save_bioimageio_package(my_model, output_path=Path(\"my_model.zip\")),\n",
    ")"
   ]
  },
  {
   "cell_type": "markdown",
   "metadata": {},
   "source": [
    "Now your model is fully ready to be shared, and we highly encourage you to upload your model to the [BioImage Model Zoo](https://dev.bioimage.io/#/upload). Lets build a FAIR bioimage community together!"
   ]
  }
 ],
 "metadata": {
  "kernelspec": {
   "display_name": "core",
   "language": "python",
   "name": "python3"
  },
  "language_info": {
   "codemirror_mode": {
    "name": "ipython",
    "version": 3
   },
   "file_extension": ".py",
   "mimetype": "text/x-python",
   "name": "python",
   "nbconvert_exporter": "python",
   "pygments_lexer": "ipython3",
   "version": "3.11.11"
  }
 },
 "nbformat": 4,
 "nbformat_minor": 4
}
