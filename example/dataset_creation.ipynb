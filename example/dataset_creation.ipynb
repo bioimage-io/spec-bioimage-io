{
 "cells": [
  {
   "cell_type": "markdown",
   "metadata": {},
   "source": [
    "# Create a dataset description in Python"
   ]
  },
  {
   "cell_type": "markdown",
   "metadata": {},
   "source": [
    "#### (optional) enable prettier error messages"
   ]
  },
  {
   "cell_type": "code",
   "execution_count": null,
   "metadata": {},
   "outputs": [],
   "source": [
    "from bioimageio.spec.pretty_validation_errors import (\n",
    "    enable_pretty_validation_errors_in_ipynb,\n",
    ")\n",
    "\n",
    "enable_pretty_validation_errors_in_ipynb()"
   ]
  },
  {
   "cell_type": "markdown",
   "metadata": {},
   "source": [
    "## Create `DatasetDescr` object "
   ]
  },
  {
   "cell_type": "code",
   "execution_count": null,
   "metadata": {},
   "outputs": [],
   "source": [
    "from bioimageio.spec.dataset.v0_3 import (\n",
    "    Author,\n",
    "    CiteEntry,\n",
    "    DatasetDescr,\n",
    "    Doi,\n",
    "    HttpUrl,\n",
    "    LicenseId,\n",
    "    OrcidId,\n",
    ")\n",
    "\n",
    "dataset = DatasetDescr(\n",
    "    name=\"Kaggle 2018 Data Science Bowl\",\n",
    "    description=\"This image data set contains a large number of segmented nuclei images and was created for the Kaggle \"\n",
    "    \"2018 Data Science Bowl sponsored by Booz Allen Hamilton with cash prizes. The image set was a testing ground \"\n",
    "    \"for the application of novel and cutting edge approaches in computer vision and machine learning to the \"\n",
    "    \"segmentation of the nuclei belonging to cells from a breadth of biological contexts.\",\n",
    "    documentation=HttpUrl(\n",
    "        \"https://uk1s3.embassy.ebi.ac.uk/public-datasets/examples.bioimage.io/dsb-2018.md\"\n",
    "    ),\n",
    "    covers=[\n",
    "        HttpUrl(\n",
    "            \"https://data.broadinstitute.org/bbbc/BBBC038/BBBC038exampleimage1.png\"\n",
    "        ),\n",
    "        HttpUrl(\n",
    "            \"https://data.broadinstitute.org/bbbc/BBBC038/BBBC038exampleimage2.png\"\n",
    "        ),\n",
    "        HttpUrl(\n",
    "            \"https://data.broadinstitute.org/bbbc/BBBC038/BBBC038exampleimage3.png\"\n",
    "        ),\n",
    "        HttpUrl(\n",
    "            \"https://data.broadinstitute.org/bbbc/BBBC038/BBBC038exampleimage4.png\"\n",
    "        ),\n",
    "        HttpUrl(\n",
    "            \"https://data.broadinstitute.org/bbbc/BBBC038/BBBC038exampleimage5.png\"\n",
    "        ),\n",
    "    ],\n",
    "    authors=[\n",
    "        Author(\n",
    "            name=\"Fynn Beuttenmueller\",\n",
    "            affiliation=\"EMBL\",\n",
    "            github_user=\"fynnbe\",\n",
    "            orcid=OrcidId(\"0000-0002-8567-6389\"),\n",
    "        ),\n",
    "    ],\n",
    "    source=HttpUrl(\"https://bbbc.broadinstitute.org/BBBC038/\"),\n",
    "    cite=[\n",
    "        CiteEntry(\n",
    "            text=\"Caicedo, J.C., Goodman, A., Karhohs, K.W. et al. Nucleus segmentation across imaging experiments: \"\n",
    "            \"the 2018 Data Science Bowl. Nat Methods 16, 1247–1253 (2019).\",\n",
    "            doi=Doi(\"10.1038/s41592-019-0612-7\"),\n",
    "        ),\n",
    "        CiteEntry(\n",
    "            text=\"Allen Goodman, Anne Carpenter, Elizabeth Park, jlefman-nvidia, Josette_BoozAllen, Kyle, Maggie, \"\n",
    "            \"Nilofer, Peter Sedivec, Will Cukierski. (2018). 2018 Data Science Bowl . Kaggle.\",\n",
    "            url=HttpUrl(\"https://kaggle.com/competitions/data-science-bowl-2018\"),\n",
    "        ),\n",
    "    ],\n",
    "    license=LicenseId(\"CC0-1.0\"),\n",
    ")\n",
    "print(f\"created description for '{dataset.name}'\")\n",
    "dataset.validation_summary.display()"
   ]
  },
  {
   "cell_type": "markdown",
   "metadata": {},
   "source": [
    "## Export dataset description for sharing (e.g. upload to bioimage.io)"
   ]
  },
  {
   "cell_type": "code",
   "execution_count": null,
   "metadata": {},
   "outputs": [],
   "source": [
    "from pathlib import Path\n",
    "\n",
    "from bioimageio.spec import save_bioimageio_package\n",
    "\n",
    "exported = save_bioimageio_package(\n",
    "    dataset, output_path=Path(\"my_bioimageio_dataset.zip\")\n",
    ")\n",
    "print(f\"exported dataset description to {exported.absolute()}\")"
   ]
  },
  {
   "cell_type": "markdown",
   "metadata": {},
   "source": [
    "## Load a dataset description"
   ]
  },
  {
   "cell_type": "code",
   "execution_count": null,
   "metadata": {},
   "outputs": [],
   "source": [
    "from bioimageio.spec import load_dataset_description\n",
    "\n",
    "loaded = load_dataset_description(exported)\n",
    "loaded.validation_summary.display()"
   ]
  },
  {
   "cell_type": "markdown",
   "metadata": {},
   "source": [
    "## Inspect a dataset description"
   ]
  },
  {
   "cell_type": "code",
   "execution_count": null,
   "metadata": {},
   "outputs": [],
   "source": [
    "from typing import Any\n",
    "\n",
    "import matplotlib.pyplot as plt\n",
    "from imageio.v3 import imread  # pyright: ignore[reportUnknownVariableType]\n",
    "from numpy.typing import NDArray\n",
    "\n",
    "from bioimageio.spec.utils import download\n",
    "\n",
    "for cover in loaded.covers:\n",
    "    downloaded = download(cover)\n",
    "    img: NDArray[Any] = imread(downloaded.path.read_bytes())\n",
    "    _ = plt.imshow(img)\n",
    "    _ = plt.title(downloaded.original_file_name)\n",
    "    _ = plt.axis(\"off\")\n",
    "    _ = plt.show()"
   ]
  }
 ],
 "metadata": {
  "kernelspec": {
   "display_name": "core2",
   "language": "python",
   "name": "python3"
  },
  "language_info": {
   "codemirror_mode": {
    "name": "ipython",
    "version": 3
   },
   "file_extension": ".py",
   "mimetype": "text/x-python",
   "name": "python",
   "nbconvert_exporter": "python",
   "pygments_lexer": "ipython3",
   "version": "3.9.19"
  },
  "orig_nbformat": 4
 },
 "nbformat": 4,
 "nbformat_minor": 2
}
