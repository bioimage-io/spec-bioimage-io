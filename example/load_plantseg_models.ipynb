{
 "cells": [
  {
   "cell_type": "markdown",
   "metadata": {},
   "source": [
    "# Load PlantSeg Models from BioImage.IO Model Zoo by Nicknames\n",
    "\n",
    "To get started, create a conda/mamba environment with both `plant-seg` and `bioimageio.spec` from `conda-forge` channel. You may choose to only install `bioimageio.spec` and avoid to run the very last cell (PlantSeg model loading)."
   ]
  },
  {
   "cell_type": "code",
   "execution_count": 1,
   "metadata": {},
   "outputs": [],
   "source": [
    "from pathlib import Path\n",
    "import json\n",
    "import pooch\n",
    "\n",
    "from bioimageio.spec import InvalidDescr, load_description\n",
    "from bioimageio.spec.model.v0_4 import ModelDescr as ModelDescr_v0_4\n",
    "from bioimageio.spec.model.v0_5 import ModelDescr as ModelDescr_v0_5\n",
    "from bioimageio.spec.utils import download\n",
    "\n",
    "from plantseg.training.model import UNet2D, UNet3D"
   ]
  },
  {
   "cell_type": "code",
   "execution_count": 2,
   "metadata": {},
   "outputs": [],
   "source": [
    "BIOIMAGE_IO_COLLECTION_URL = \"https://raw.githubusercontent.com/bioimage-io/collection-bioimage-io/gh-pages/collection.json\""
   ]
  },
  {
   "cell_type": "markdown",
   "metadata": {},
   "source": [
    "Let's filter the models by tags, which doesn't gaurantee to find all PlantSeg-compatible models, but it's quick:"
   ]
  },
  {
   "cell_type": "code",
   "execution_count": 3,
   "metadata": {},
   "outputs": [],
   "source": [
    "def _is_plantseg_model(collection_entry: dict) -> bool:\n",
    "    \"\"\"Determines if the 'tags' field in a collection entry contains the keyword 'plantseg'.\"\"\"\n",
    "    tags = collection_entry.get(\"tags\")\n",
    "    if tags is None:\n",
    "        return False\n",
    "    if not isinstance(tags, list):\n",
    "        raise ValueError(f\"Tags in a collection entry must be a list of strings, got {type(tags).__name__}\")\n",
    "\n",
    "    # Normalize tags to lower case and remove non-alphanumeric characters\n",
    "    normalized_tags = [\"\".join(filter(str.isalnum, tag.lower())) for tag in tags]\n",
    "    return 'plantseg' in normalized_tags"
   ]
  },
  {
   "cell_type": "code",
   "execution_count": 4,
   "metadata": {},
   "outputs": [
    {
     "data": {
      "text/plain": [
       "{'efficient-chipmunk',\n",
       " 'emotional-cricket',\n",
       " 'laid-back-lobster',\n",
       " 'loyal-squid',\n",
       " 'noisy-fish',\n",
       " 'passionate-t-rex',\n",
       " 'pioneering-rhino',\n",
       " 'powerful-fish',\n",
       " 'thoughtful-turtle'}"
      ]
     },
     "execution_count": 4,
     "metadata": {},
     "output_type": "execute_result"
    }
   ],
   "source": [
    "collection_path = Path(pooch.retrieve(BIOIMAGE_IO_COLLECTION_URL, known_hash=None))\n",
    "with collection_path.open(encoding='utf-8') as f:\n",
    "    collection = json.load(f)\n",
    "bioimageio_zoo_collection = collection\n",
    "bioimageio_zoo_plantseg_model_url_dict = {\n",
    "    entry[\"nickname\"]: entry[\"rdf_source\"]\n",
    "    for entry in collection[\"collection\"]\n",
    "    if entry[\"type\"] == \"model\" and _is_plantseg_model(entry)\n",
    "}\n",
    "set(bioimageio_zoo_plantseg_model_url_dict.keys())"
   ]
  },
  {
   "cell_type": "markdown",
   "metadata": {},
   "source": [
    "Pick a model from the list and load it with `bioimageio.spec`:"
   ]
  },
  {
   "cell_type": "code",
   "execution_count": 5,
   "metadata": {},
   "outputs": [],
   "source": [
    "model_id = 'efficient-chipmunk'\n",
    "\n",
    "if model_id not in bioimageio_zoo_plantseg_model_url_dict:\n",
    "    raise ValueError(f\"Model ID {model_id} may not be a PlantSeg model in BioImage.IO Model Zoo\")"
   ]
  },
  {
   "cell_type": "code",
   "execution_count": 6,
   "metadata": {},
   "outputs": [
    {
     "name": "stdout",
     "output_type": "stream",
     "text": [
      "Got plantseg.models.model.UNet3D model with kwargs {'f_maps': 16, 'in_channels': 1, 'out_channels': 2}.\n"
     ]
    }
   ],
   "source": [
    "rdf_url = bioimageio_zoo_plantseg_model_url_dict[model_id]\n",
    "model_description = load_description(rdf_url)\n",
    "\n",
    "# Check if description is `ResourceDescr`\n",
    "if isinstance(model_description, InvalidDescr):\n",
    "    model_description.validation_summary.display()\n",
    "    raise ValueError(f\"Failed to load {model_id}\")\n",
    "\n",
    "# Check `model_description` has `weights`\n",
    "if not isinstance(model_description, ModelDescr_v0_4) and not isinstance(model_description, ModelDescr_v0_5):\n",
    "    raise ValueError(\n",
    "        f\"Model description {model_id} is not in v0.4 or v0.5 BioImage.IO model description format. \"\n",
    "        \"Only v0.4 and v0.5 formats are supported by BioImage.IO Spec and PlantSeg.\"\n",
    "    )\n",
    "\n",
    "# Check `model_description.weights` has `pytorch_state_dict`\n",
    "if model_description.weights.pytorch_state_dict is None:\n",
    "    raise ValueError(f\"Model {model_id} does not have PyTorch weights\")\n",
    "\n",
    "# Spec format version v0.4 and v0.5 have different designs to store model architecture\n",
    "if isinstance(model_description, ModelDescr_v0_4):  # then `pytorch_state_dict.architecture` is nn.Module\n",
    "    architecture_callable = model_description.weights.pytorch_state_dict.architecture\n",
    "    architecture_kwargs = model_description.weights.pytorch_state_dict.kwargs\n",
    "elif isinstance(model_description, ModelDescr_v0_5):  # then it is `ArchitectureDescr` with `callable`\n",
    "    architecture_callable = model_description.weights.pytorch_state_dict.architecture.callable\n",
    "    architecture_kwargs = model_description.weights.pytorch_state_dict.architecture.kwargs\n",
    "print(f\"Got {architecture_callable} model with kwargs {architecture_kwargs}.\")"
   ]
  },
  {
   "cell_type": "code",
   "execution_count": 7,
   "metadata": {},
   "outputs": [
    {
     "name": "stdout",
     "output_type": "stream",
     "text": [
      "Created <class 'plantseg.training.model.UNet3D'> model with kwargs {'in_channels': 1, 'out_channels': 2, 'layer_order': 'gcr', 'f_maps': 16, 'num_groups': 8, 'final_sigmoid': True}.\n",
      "Loaded model from BioImage.IO Model Zoo: efficient-chipmunk\n"
     ]
    }
   ],
   "source": [
    "# Create model from architecture and kwargs\n",
    "architecture = str(architecture_callable)  # e.g. 'plantseg.models.model.UNet3D'\n",
    "architecture = UNet3D if 'UNet3D' in architecture else UNet2D\n",
    "model_config = {\n",
    "    'in_channels': 1,\n",
    "    'out_channels': 1,\n",
    "    'layer_order': 'gcr',\n",
    "    'f_maps': 32,\n",
    "    'num_groups': 8,\n",
    "    'final_sigmoid': True,\n",
    "}\n",
    "model_config.update(architecture_kwargs)\n",
    "model = architecture(**model_config)\n",
    "model_weights_path = download(model_description.weights.pytorch_state_dict.source).path\n",
    "\n",
    "print(f\"Created {architecture} model with kwargs {model_config}.\")\n",
    "print(f\"Loaded model from BioImage.IO Model Zoo: {model_id}\")"
   ]
  },
  {
   "cell_type": "code",
   "execution_count": null,
   "metadata": {},
   "outputs": [],
   "source": []
  }
 ],
 "metadata": {
  "kernelspec": {
   "display_name": "plant-seg-bioimage-io",
   "language": "python",
   "name": "python3"
  },
  "language_info": {
   "codemirror_mode": {
    "name": "ipython",
    "version": 3
   },
   "file_extension": ".py",
   "mimetype": "text/x-python",
   "name": "python",
   "nbconvert_exporter": "python",
   "pygments_lexer": "ipython3",
   "version": "3.11.9"
  }
 },
 "nbformat": 4,
 "nbformat_minor": 2
}
